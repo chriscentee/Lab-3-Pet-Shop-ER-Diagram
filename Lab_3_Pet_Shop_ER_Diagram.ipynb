{
  "nbformat": 4,
  "nbformat_minor": 0,
  "metadata": {
    "colab": {
      "name": "Lab 3 Pet Shop ER Diagram.ipynb",
      "provenance": []
    },
    "kernelspec": {
      "name": "python3",
      "display_name": "Python 3"
    }
  },
  "cells": [
    {
      "cell_type": "markdown",
      "metadata": {
        "id": "oN-iUyvazwAD",
        "colab_type": "text"
      },
      "source": [
        "First, because of the distinction between the different types of animals being \"pet\" and \"fish\", we decided to create an entity table titled \"Animal Type.\" The primary key we chose for this entity table is \"AnimalID\" because we imagine each specific animal type to have a correlating barcode of numbers to uniquely identify it among the others. Within this table, we included various other descriptive attributes such as \"Name\", \"Species\", \"Age\", \"Location\", and \"Food.\" All of these attributes will match with an individual animal. The attribute of \"Food\" will directly relate to our entity table titled \"Animal Food.\" Within this table, the attributes will be such so that the supplier (store) will be able to track the information that coincides. \"FoodID\" is the unique primary key for this table because there will be a barcode attached to each food purchase made. Also, from our first entity table, the attribute \"Location\" will translate into where the animals may be found. To make this distinction clearer, we made entity tables titled \"Enclosure\" and \"Aquarium\" since that is the breakdown of living spaces provided. The primary keys are \"AquariumID\" and \"EnclosureID\" matched with their respective table. We chose this as our primary key because we imagine a specific number labeled on each habitat to identify where it is located within the store. We also used \"living\" as the verb to describe where the animals are contained. Aside from \"Water Type\" found in the \"Aquarium\" entity table, the two share all of the same attributes. From here, we would match the \"Animal Food\" table with the \"Food Purchases\" table, with the attribute \"Cost\" being the foreign key linking with the primary key of \"Food Purchases\", as we would like to keep the purchases of animals and food separate. That being said, the table \"Animal Purchases\" would use the attribute \"Barcode\" as the foreign key connecting to the \"Animal Type\". In order to complete this, we need to take into consideration the \"Customer Rewards\" program that is instilled. To do so, we link the \"Customer\" attributes from both transaction tables to the primary key \"CustomerID\" in the \"Customer Rewards\" table. Both of the primary keys for the \"Food Purchases\" and \"Animal Purchases\" are linked to the costs in order to find the prices of the transactions. In regards to the relationships, since many of the animals have similar food, we are able to determine a 0 to many relationship. With many of the purchasable items and products, one specific ID can define multiple of the same species or item, which is why it has a 0 to many relationship as well. By doing so, we are able to track the quantity of the specific species or product as well. Lastly, both of the \"Customer\" attributes in the transaction tables have a 1 to 1 link with the \"CustomerID\" primary key in the \"Customer Rewards\" table, as there is only one person that corresponds to their respective ID.\n",
        "\n",
        "\n",
        "\n",
        "---\n",
        "\n",
        "\n",
        "![](https://drive.google.com/uc?export=view&id=10xRUy-h_xxatEKe7YUcbfMKZ7TVs9ZF8)\n"
      ]
    }
  ]
}